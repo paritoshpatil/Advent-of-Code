{
 "cells": [
  {
   "cell_type": "code",
   "execution_count": 39,
   "metadata": {},
   "outputs": [
    {
     "name": "stdout",
     "output_type": "stream",
     "text": [
      "2401\n"
     ]
    }
   ],
   "source": [
    "# input\n",
    "\n",
    "matrix = []\n",
    "\n",
    "with open(\"inputs/4.txt\", 'r') as file:\n",
    "    for line in file:\n",
    "        matrix.append([x for x in line.strip()])\n",
    "\n",
    "def inside(row, col):\n",
    "    return 0 <= row and row < W and 0 <= col and col < H\n",
    "\n",
    "find = \"XMAS\"\n",
    "total_finds = 0\n",
    "H = len(matrix)\n",
    "W = len(matrix[0])\n",
    "\n",
    "for i in range(H):\n",
    "    for j in range(W):\n",
    "        if matrix[i][j] == \"X\":\n",
    "            for drow in range(-1, 2, 1):\n",
    "                for dcol in range(-1, 2, 1):\n",
    "                    if drow == 0 and dcol == 0: continue\n",
    "                    all_ok = True\n",
    "                    for x in range(4):\n",
    "                        r2 = i + drow * x\n",
    "                        c2 = j + dcol * x\n",
    "                        \n",
    "                        if inside(r2,c2) and matrix[r2][c2] == find[x]:\n",
    "                            None\n",
    "                        else: \n",
    "                            all_ok = False\n",
    "                            break\n",
    "                    if all_ok: total_finds += 1\n",
    "\n",
    "print(total_finds)\n"
   ]
  },
  {
   "cell_type": "code",
   "execution_count": 54,
   "metadata": {},
   "outputs": [
    {
     "name": "stdout",
     "output_type": "stream",
     "text": [
      "1822\n"
     ]
    }
   ],
   "source": [
    "# input\n",
    "\n",
    "matrix = []\n",
    "\n",
    "with open(\"inputs/4.txt\", 'r') as file:\n",
    "    for line in file:\n",
    "        matrix.append([x for x in line.strip()])\n",
    "\n",
    "total_finds = 0\n",
    "diags = [[-1, -1], [-1, 1], [1, 1], [1, -1]]\n",
    "H = len(matrix)\n",
    "W = len(matrix[0])\n",
    "\n",
    "for i in range(1, H-1):\n",
    "    for j in range(1, W-1):\n",
    "        if matrix[i][j] == \"A\":\n",
    "            s = \"\"\n",
    "            for d in diags:\n",
    "                r2 = i + d[0]\n",
    "                c2 = j + d[1]\n",
    "                s += matrix[r2][c2]\n",
    "\n",
    "            if s == \"SMMS\" or s == \"MSSM\" or s == \"SSMM\" or s == \"MMSS\":\n",
    "                total_finds += 1\n",
    "\n",
    "print(total_finds)\n"
   ]
  }
 ],
 "metadata": {
  "kernelspec": {
   "display_name": "Python 3",
   "language": "python",
   "name": "python3"
  },
  "language_info": {
   "codemirror_mode": {
    "name": "ipython",
    "version": 3
   },
   "file_extension": ".py",
   "mimetype": "text/x-python",
   "name": "python",
   "nbconvert_exporter": "python",
   "pygments_lexer": "ipython3",
   "version": "3.11.9"
  }
 },
 "nbformat": 4,
 "nbformat_minor": 2
}

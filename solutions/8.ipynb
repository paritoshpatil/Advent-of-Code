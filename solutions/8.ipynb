{
 "cells": [
  {
   "cell_type": "markdown",
   "metadata": {},
   "source": [
    "### PART 1"
   ]
  },
  {
   "cell_type": "code",
   "execution_count": null,
   "metadata": {},
   "outputs": [
    {
     "name": "stdout",
     "output_type": "stream",
     "text": [
      "295\n"
     ]
    }
   ],
   "source": [
    "from collections import defaultdict\n",
    "from itertools import combinations\n",
    "\n",
    "# read input at matrix\n",
    "matrix = []\n",
    "with open(\"inputs/8.txt\", 'r', encoding='UTF-8') as file:\n",
    "    while line := file.readline():\n",
    "        matrix.append(list(line.strip()))\n",
    "\n",
    "H = len(matrix)\n",
    "W = len(matrix[0])\n",
    "\n",
    "# frequencies is a set that contains the various unique frequencies as a key and the value is \n",
    "# list of co-ordinates where that frequency tower is present \n",
    "# for e.g. the input might have 3 towers with frequency A -> (0,2), (3,4) and (9,4)\n",
    "# then frequencies['A'] == [(0,2), (3,4), (9,4)]\n",
    "frequencies = defaultdict(list)\n",
    "\n",
    "# populating the frequencies set\n",
    "for row in range(H):\n",
    "    for col in range(W):\n",
    "        if matrix[row][col] != \".\":\n",
    "            frequencies[matrix[row][col]].append((row,col))\n",
    "\n",
    "# utility function to get the antinodes of two points/co-ordinates/nodes\n",
    "def get_antinodes(a, b):\n",
    "    # first we calculate the distance between the two points\n",
    "    # this is just the difference of the two rows and the two cols\n",
    "    row_diff = b[0] - a[0]\n",
    "    col_diff = b[1] - a[1]\n",
    "    \n",
    "    # first antinode is the first node - the diff\n",
    "    # second antinode is the second node + the diff\n",
    "    antinode1 = (a[0] - row_diff, a[1] - col_diff)\n",
    "    antinode2 = (b[0] + row_diff, b[1] + col_diff)\n",
    "\n",
    "    # only add nodes if they are inbounds\n",
    "    # yield just returns elements as if they are in a list\n",
    "    if is_inbounds(antinode1): yield antinode1\n",
    "    if is_inbounds(antinode2): yield antinode2\n",
    "\n",
    "# check if node is inbound\n",
    "def is_inbounds(node):\n",
    "    row, col = node\n",
    "    return 0 <= row and row < H and 0 <= col and col < W\n",
    "\n",
    "# antinodes is a set so we dont count the same value twice\n",
    "antinodes = set()\n",
    "answer = 0\n",
    "\n",
    "for f in frequencies:\n",
    "    nodes = frequencies[f]\n",
    "    # combinations will create all combinations of a pair of nodes\n",
    "    # this is equivalent to running two nester for loops\n",
    "    for i,j in combinations(nodes, r=2):\n",
    "        for an in get_antinodes(i,j):\n",
    "            antinodes.add(an)\n",
    "\n",
    "print(len(antinodes))"
   ]
  },
  {
   "cell_type": "markdown",
   "metadata": {},
   "source": [
    "### PART 2"
   ]
  },
  {
   "cell_type": "code",
   "execution_count": null,
   "metadata": {},
   "outputs": [
    {
     "name": "stdout",
     "output_type": "stream",
     "text": [
      "defaultdict(<class 'list'>, {'f': [(0, 2), (9, 4), (11, 11), (20, 31)], '8': [(0, 27), (1, 13), (6, 22), (7, 14)], 'G': [(1, 0), (2, 8), (16, 7)], 'u': [(1, 16), (7, 17), (10, 21), (12, 26)], 'p': [(2, 12), (8, 17), (13, 6), (21, 27)], 'd': [(3, 6), (9, 7), (10, 17), (12, 32)], 'n': [(3, 28), (6, 24), (10, 19), (13, 29)], 'K': [(5, 37), (6, 30), (20, 33)], 'F': [(6, 18), (8, 15), (13, 2)], 'B': [(6, 28), (8, 25), (17, 29), (25, 16)], 'b': [(7, 4), (23, 13), (24, 20), (30, 7)], '4': [(8, 39), (12, 48), (15, 44), (19, 43)], '5': [(8, 45), (10, 40), (11, 38), (21, 39)], 'U': [(9, 10), (10, 11), (15, 3), (20, 0)], 'c': [(9, 36), (29, 39), (32, 34), (40, 41)], '0': [(10, 23), (14, 18), (21, 15), (23, 32)], 'Y': [(11, 3), (28, 9), (30, 8)], 'e': [(12, 38), (17, 35), (23, 46), (28, 45)], 'v': [(13, 20), (20, 14), (24, 29), (27, 3)], 's': [(14, 4), (15, 6), (21, 1), (22, 3)], 'S': [(15, 4), (16, 23), (29, 7), (42, 2)], 'g': [(15, 11), (19, 16), (20, 8), (28, 21)], 'D': [(15, 17), (20, 25), (26, 18), (27, 16)], 'w': [(16, 6), (18, 9), (19, 14), (41, 45)], 'A': [(18, 35), (23, 38), (25, 39), (30, 40)], '9': [(19, 13), (20, 5), (21, 18), (22, 2)], 'P': [(20, 20), (21, 28), (22, 23), (27, 21)], '2': [(23, 41), (34, 40), (37, 38), (42, 37)], 'V': [(24, 26), (26, 23), (27, 22), (29, 15)], '7': [(25, 7), (29, 18), (30, 9), (34, 12)], '6': [(26, 19), (38, 20), (43, 27), (47, 18)], 'q': [(26, 28), (31, 21), (34, 31), (35, 32)], 'y': [(28, 48), (31, 34), (36, 43), (45, 45)], 'W': [(29, 8), (36, 3), (37, 7), (46, 0)], 'N': [(30, 31), (31, 23), (32, 24), (35, 28)], 'C': [(34, 9), (36, 10), (39, 17), (43, 22)], '3': [(36, 11), (37, 31), (38, 8), (39, 4)], 'Q': [(36, 15), (42, 26), (43, 35), (47, 30)], 'a': [(36, 32), (40, 35), (43, 42), (45, 31)], '1': [(36, 33), (38, 34), (39, 19), (45, 32)], 'k': [(39, 40), (42, 44), (43, 43), (48, 27)], 'E': [(40, 0), (45, 17), (46, 11), (47, 6)]})\n",
      "1034\n"
     ]
    }
   ],
   "source": [
    "from collections import defaultdict\n",
    "from itertools import combinations\n",
    "\n",
    "matrix = []\n",
    "with open(\"inputs/8.txt\", 'r', encoding='UTF-8') as file:\n",
    "    while line := file.readline():\n",
    "        matrix.append(list(line.strip()))\n",
    "\n",
    "H = len(matrix)\n",
    "W = len(matrix[0])\n",
    "frequencies = defaultdict(list)\n",
    "\n",
    "for row in range(H):\n",
    "    for col in range(W):\n",
    "        if matrix[row][col] != \".\":\n",
    "            frequencies[matrix[row][col]].append((row,col))\n",
    "\n",
    "print(frequencies)  \n",
    "\n",
    "def get_antinodes(a, b):\n",
    "    row_diff = b[0] - a[0]\n",
    "    col_diff = b[1] - a[1]\n",
    "    \n",
    "    anodes = []\n",
    "\n",
    "    # here we just need to calculate all possible antinodes instead of just two \n",
    "    # this is quite simple as we just introduce a counter i that will modify \n",
    "    # the difference value on each turn \n",
    "    # we do this till the antinode goes out of bounds\n",
    "    i = 0\n",
    "    while True:\n",
    "        antinode1 = (a[0] - (row_diff * i), a[1] - (col_diff * i))\n",
    "        if is_inbounds(antinode1):\n",
    "            anodes.append(antinode1)\n",
    "        else: \n",
    "            break\n",
    "        i += 1\n",
    "        \n",
    "    # we repeat the same for the other node after resetting the counter\n",
    "    i = 0\n",
    "    while True:\n",
    "        antinode2 = (b[0] + (row_diff * i), b[1] + (col_diff * i))\n",
    "        if is_inbounds(antinode2):\n",
    "            anodes.append(antinode2)\n",
    "        else: \n",
    "            break\n",
    "        i += 1\n",
    "        \n",
    "    return anodes\n",
    "\n",
    "def is_inbounds(node):\n",
    "    row, col = node\n",
    "    return 0 <= row and row < H and 0 <= col and col < W\n",
    "\n",
    "antinodes = set()\n",
    "answer = 0\n",
    "\n",
    "for f in frequencies:\n",
    "    nodes = frequencies[f]\n",
    "    for i,j in combinations(nodes, r=2):\n",
    "        for an in get_antinodes(i,j):\n",
    "            antinodes.add(an)\n",
    "\n",
    "\n",
    "print(len(antinodes))"
   ]
  }
 ],
 "metadata": {
  "kernelspec": {
   "display_name": "Python 3",
   "language": "python",
   "name": "python3"
  },
  "language_info": {
   "codemirror_mode": {
    "name": "ipython",
    "version": 3
   },
   "file_extension": ".py",
   "mimetype": "text/x-python",
   "name": "python",
   "nbconvert_exporter": "python",
   "pygments_lexer": "ipython3",
   "version": "3.10.5"
  }
 },
 "nbformat": 4,
 "nbformat_minor": 2
}

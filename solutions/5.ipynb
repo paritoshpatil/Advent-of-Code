{
 "cells": [
  {
   "cell_type": "markdown",
   "metadata": {},
   "source": [
    "### PART 1"
   ]
  },
  {
   "cell_type": "code",
   "execution_count": null,
   "metadata": {},
   "outputs": [
    {
     "name": "stdout",
     "output_type": "stream",
     "text": [
      "4766\n"
     ]
    }
   ],
   "source": [
    "# parsing input\n",
    "f = open('inputs/5.txt')\n",
    "ip = f.read()\n",
    "\n",
    "temp_rules, temp_pages = ip.split('\\n\\n')\n",
    "rules = []\n",
    "\n",
    "for r in temp_rules.split(\"\\n\"): \n",
    "    a, b = r.split(\"|\")\n",
    "    rules.append((a, b))\n",
    "\n",
    "pages = []\n",
    "for p in temp_pages.split(\"\\n\"):\n",
    "    pages.append(p.split(\",\"))\n",
    "\n",
    "\n",
    "answer = 0\n",
    "for page in pages:\n",
    "    good_page = True\n",
    "    idx = {}\n",
    "    for index, p in enumerate(page):\n",
    "        # add index of all items in current page to a dict\n",
    "        idx[p] = index\n",
    "    \n",
    "    for a,b in rules:\n",
    "        # iterate over all rule pairs\n",
    "        # if rule pair is in current page, check if index of \n",
    "        # rule1 comes before index of rule 2 using idx dict\n",
    "\n",
    "        # if not, then page is not good and we can skip\n",
    "        if a in idx and b in idx and idx[a] > idx[b]:\n",
    "            good_page = False\n",
    "    \n",
    "    # else, we take the middle page and add it to answer\n",
    "    if good_page: answer += int(page[len(page)//2])\n",
    "\n",
    "print(answer)"
   ]
  },
  {
   "cell_type": "markdown",
   "metadata": {},
   "source": [
    "### PART 2"
   ]
  },
  {
   "cell_type": "code",
   "execution_count": 9,
   "metadata": {},
   "outputs": [
    {
     "name": "stdout",
     "output_type": "stream",
     "text": [
      "6257\n"
     ]
    }
   ],
   "source": [
    "from collections import defaultdict\n",
    "\n",
    "f = open('inputs/5.txt')\n",
    "ip = f.read()\n",
    "\n",
    "temp_rules, temp_pages = ip.split('\\n\\n')\n",
    "rules = []\n",
    "\n",
    "for r in temp_rules.split(\"\\n\"): \n",
    "    a, b = r.split(\"|\")\n",
    "    rules.append((a, b))\n",
    "\n",
    "pages = []\n",
    "for p in temp_pages.split(\"\\n\"):\n",
    "    pages.append(p.split(\",\"))\n",
    "\n",
    "def is_good_page(page):\n",
    "    idx = {}\n",
    "    for index, p in enumerate(page):\n",
    "        idx[p] = index\n",
    "    \n",
    "    for a,b in rules:\n",
    "        if a in idx and b in idx and idx[a] > idx[b]:\n",
    "            return False    \n",
    "    return True\n",
    "\n",
    "# topological sort: Topological sorting for Directed Acyclic Graph (DAG) is a linear ordering of vertices such that for every directed edge u-v, vertex u comes before v in the ordering\n",
    "\n",
    "answer = 0\n",
    "for page in pages:\n",
    "    # check if current page is good\n",
    "    if is_good_page(page):\n",
    "        continue\n",
    "\n",
    "    # if not good page, we need to fix it\n",
    "    # filter out all rules that are not in current page\n",
    "    filtered_rules = []\n",
    "\n",
    "    # create a dictionary to store indegrees of all numbers in current page\n",
    "    # indegree[x] is the number of pages dependent on x\n",
    "    # e.g. if x|y is in rules, x needs to come before y so y is dependent on x \n",
    "    # therefore, indegree of y is 1\n",
    "    indegree = defaultdict(int)\n",
    "    \n",
    "    for a,b in rules:\n",
    "        if a in page and b in page:\n",
    "            filtered_rules.append((a,b))\n",
    "            indegree[b] += 1\n",
    "\n",
    "    fixed_page = []    \n",
    "\n",
    "    # uncomment for debugging\n",
    "    # print(\"PAGE: \", page)\n",
    "    # print(\"RULES: \", filtered_rules)\n",
    "    # print(\"INDEGREE: \", indegree)\n",
    "\n",
    "    # loop till length of answer is same as page\n",
    "    while len(fixed_page) < len(page):\n",
    "        for p in page:\n",
    "            # check if current number is already added to answer\n",
    "            if p in fixed_page:\n",
    "                continue\n",
    "            # if not, we check the indegree\n",
    "            # if indegree for a number is 0, it means it is not dependent on anything\n",
    "            # we can add such a number directly to the list\n",
    "            if indegree[p] <= 0:\n",
    "                fixed_page.append(p)\n",
    "                for a,b in filtered_rules:\n",
    "                    # since we added p, we can reduce the indegree of all its\n",
    "                    # dependents by 1\n",
    "                    if a == p:\n",
    "                        indegree[b] -= 1\n",
    "    # at this point, fixed_page is the corrected page\n",
    "    answer += int(fixed_page[len(fixed_page)//2])\n",
    "\n",
    "print(answer)"
   ]
  }
 ],
 "metadata": {
  "kernelspec": {
   "display_name": "Python 3",
   "language": "python",
   "name": "python3"
  },
  "language_info": {
   "codemirror_mode": {
    "name": "ipython",
    "version": 3
   },
   "file_extension": ".py",
   "mimetype": "text/x-python",
   "name": "python",
   "nbconvert_exporter": "python",
   "pygments_lexer": "ipython3",
   "version": "3.10.5"
  }
 },
 "nbformat": 4,
 "nbformat_minor": 2
}

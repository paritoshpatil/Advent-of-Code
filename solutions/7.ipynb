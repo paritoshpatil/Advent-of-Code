{
 "cells": [
  {
   "cell_type": "markdown",
   "metadata": {},
   "source": [
    "### PART 1"
   ]
  },
  {
   "cell_type": "code",
   "execution_count": null,
   "metadata": {},
   "outputs": [],
   "source": [
    "from itertools import product\n",
    "\n",
    "equations = []\n",
    "\n",
    "# read input line by line\n",
    "with open(\"inputs/7.txt\", 'r', encoding='UTF-8') as file:\n",
    "    while line := file.readline():\n",
    "        # store equation and numbers in an array of tuples\n",
    "        a = line.split(\":\")[0]\n",
    "        n = line.strip().split(\":\")[1].strip().split(\" \")\n",
    "        equations.append((a, n))\n",
    "\n",
    "answer = 0\n",
    "for equation in equations:\n",
    "    # for each equation we calculate the wanted output and the list of input digits\n",
    "    total = int(equation[0])\n",
    "    nums = list(map(int, equation[1]))\n",
    "    N = len(nums)\n",
    "\n",
    "    # create an evaluate function that takes the signs/operands as input and calculates the output\n",
    "    def evaluate(signs):\n",
    "        ans = nums[0]\n",
    "        for i in range(N-1):\n",
    "            if signs[i] == \"+\":\n",
    "                ans += nums[i+1]\n",
    "            else:\n",
    "                ans *= nums[i+1]\n",
    "        return ans\n",
    "    \n",
    "    # we want to check all combinations of the signs for the current input list\n",
    "    # this means we need to get all permutations of the 2 signs + and * for the length of the input-1\n",
    "    # for this, we use the product function from itertool\n",
    "    # product function is equivalent to running 2 nester for loops and creating all combinations of + and *\n",
    "    for signs in product(\"+*\", repeat=N-1):\n",
    "        # for each list of signs, we calculate the output and compare\n",
    "        if evaluate(signs) == total:\n",
    "            answer += total\n",
    "            break\n",
    "\n",
    "print(answer)\n"
   ]
  },
  {
   "cell_type": "markdown",
   "metadata": {},
   "source": [
    "### PART 2"
   ]
  },
  {
   "cell_type": "code",
   "execution_count": null,
   "metadata": {},
   "outputs": [
    {
     "name": "stdout",
     "output_type": "stream",
     "text": [
      "11387\n"
     ]
    }
   ],
   "source": [
    "from itertools import product\n",
    "\n",
    "equations = []\n",
    "\n",
    "with open(\"inputs/7.txt\", 'r', encoding='UTF-8') as file:\n",
    "    while line := file.readline():\n",
    "        a = line.split(\":\")[0]\n",
    "        n = line.strip().split(\":\")[1].strip().split(\" \")\n",
    "        equations.append((a, n))\n",
    "\n",
    "answer = 0\n",
    "for equation in equations:\n",
    "    total = int(equation[0])\n",
    "    nums = list(map(int, equation[1]))\n",
    "    N = len(nums)\n",
    "\n",
    "    def evaluate(signs):\n",
    "        ans = nums[0]\n",
    "        for i in range(N-1):\n",
    "            if signs[i] == \"+\":\n",
    "                ans += nums[i+1]\n",
    "            elif signs[i] == \"|\":\n",
    "                # for concatenation we just append them as string and convert it back to int\n",
    "                # for other languages where this cannot be done, we can use the following formula\n",
    "                # 56|713 = 56 * 1000 + 713\n",
    "                # first|second = first * 10**len(second) + second\n",
    "                # ans = ans * 10**len(str(nums[i+1])) + nums[i+1]\n",
    "\n",
    "                ans = int(f\"{ans}{nums[i+1]}\")\n",
    "            else:\n",
    "                ans *= nums[i+1]\n",
    "        return ans\n",
    "    \n",
    "    # here we just have a new operand that concatenates the two numbers i.e. 56|713 will become 58,713\n",
    "    for signs in product(\"+*|\", repeat=N-1):\n",
    "        if evaluate(signs) == total:\n",
    "            answer += total\n",
    "            break\n",
    "\n",
    "print(answer)\n"
   ]
  }
 ],
 "metadata": {
  "kernelspec": {
   "display_name": "Python 3",
   "language": "python",
   "name": "python3"
  },
  "language_info": {
   "codemirror_mode": {
    "name": "ipython",
    "version": 3
   },
   "file_extension": ".py",
   "mimetype": "text/x-python",
   "name": "python",
   "nbconvert_exporter": "python",
   "pygments_lexer": "ipython3",
   "version": "3.10.5"
  }
 },
 "nbformat": 4,
 "nbformat_minor": 2
}
